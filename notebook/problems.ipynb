{
    "cells": [
        {
            "cell_type": "markdown",
            "id": "ac622319",
            "metadata": {},
            "source": [
                "# Descriptive Statistics Problems"
            ]
        },
        {
            "cell_type": "markdown",
            "id": "aa8993e4",
            "metadata": {},
            "source": [
                "### Exercise 1"
            ]
        },
        {
            "cell_type": "markdown",
            "id": "5e0ab0d5",
            "metadata": {},
            "source": [
                "As right now, you are familliar with numpy, we are going to use numpy to get some data statistics.\n",
                "\n",
                "First, lets create an array of 20 elements distributed normally (Gaussian):\n",
                "\n",
                "Use the np.random.normal function to create some data, using 0,1,20 as parameters because we want a one dimentional array of 20 numbers distributed normally (Gaussian)"
            ]
        },
        {
            "cell_type": "code",
            "execution_count": 7,
            "id": "34720ab6",
            "metadata": {},
            "outputs": [
                {
                    "data": {
                        "text/plain": [
                            "array([ 0.88389311,  0.19586502,  0.35753652, -2.34326191, -1.08483259,\n",
                            "        0.55969629,  0.93946935, -0.97848104,  0.50309684,  0.40641447,\n",
                            "        0.32346101, -0.49341088, -0.79201679, -0.84236793, -1.27950266,\n",
                            "        0.24571517, -0.0441948 ,  1.56763255,  1.05110868,  0.40636843])"
                        ]
                    },
                    "execution_count": 7,
                    "metadata": {},
                    "output_type": "execute_result"
                }
            ],
            "source": [
                "#import libraries\n",
                "import numpy as np\n",
                "\n",
                "# Set seed in order to get similar results\n",
                "np.random.seed(20)\n",
                "\n",
                "# create the data\n",
                "data = np.random.normal(0,1,20)\n",
                "\n",
                "#print results\n",
                "data"
            ]
        },
        {
            "cell_type": "code",
            "execution_count": 8,
            "id": "49c55822",
            "metadata": {},
            "outputs": [
                {
                    "data": {
                        "text/plain": [
                            "-0.02089055839443331"
                        ]
                    },
                    "execution_count": 8,
                    "metadata": {},
                    "output_type": "execute_result"
                }
            ],
            "source": [
                "#Use numpy to get the mean of your data\n",
                "np.mean(data)"
            ]
        },
        {
            "cell_type": "code",
            "execution_count": 10,
            "id": "03529459",
            "metadata": {},
            "outputs": [
                {
                    "data": {
                        "text/plain": [
                            "0.8644943803925116"
                        ]
                    },
                    "execution_count": 10,
                    "metadata": {},
                    "output_type": "execute_result"
                }
            ],
            "source": [
                "#get the variance of your data\n",
                "np.var(data)"
            ]
        },
        {
            "cell_type": "code",
            "execution_count": 11,
            "id": "e53f30c5",
            "metadata": {},
            "outputs": [
                {
                    "data": {
                        "text/plain": [
                            "0.9297818993680784"
                        ]
                    },
                    "execution_count": 11,
                    "metadata": {},
                    "output_type": "execute_result"
                }
            ],
            "source": [
                "# Standard deviation\n",
                "np.std(data)"
            ]
        },
        {
            "cell_type": "code",
            "execution_count": 15,
            "id": "9bce852f",
            "metadata": {},
            "outputs": [
                {
                    "name": "stdout",
                    "output_type": "stream",
                    "text": [
                        "ModeResult(mode=array([-2.34326191]), count=array([1]))\n"
                    ]
                },
                {
                    "data": {
                        "text/plain": [
                            "array([-2.34326191])"
                        ]
                    },
                    "execution_count": 15,
                    "metadata": {},
                    "output_type": "execute_result"
                }
            ],
            "source": [
                "#import libraries and print the mode\n",
                "from scipy import stats\n",
                "\n",
                "data_one = stats.mode(data)\n",
                "print(data_one)\n",
                "# Mode for continuous array\n",
                "data_one.mode"
            ]
        },
        {
            "cell_type": "code",
            "execution_count": 17,
            "id": "c682cb6e",
            "metadata": {},
            "outputs": [
                {
                    "data": {
                        "text/plain": [
                            "0.2845880897134383"
                        ]
                    },
                    "execution_count": 17,
                    "metadata": {},
                    "output_type": "execute_result"
                }
            ],
            "source": [
                "# Median\n",
                "np.median(data)"
            ]
        },
        {
            "cell_type": "code",
            "execution_count": 19,
            "id": "39c3fabd",
            "metadata": {},
            "outputs": [
                {
                    "data": {
                        "text/plain": [
                            "0.2845880897134383"
                        ]
                    },
                    "execution_count": 19,
                    "metadata": {},
                    "output_type": "execute_result"
                }
            ],
            "source": [
                "# Print the Quantiles\n",
                "np.quantile(data, 0.5)\n",
                "\n",
                "# This match with np.median, why?\n",
                "print('Because I use an 0.5 as a paramter for quartile function, that´s its named second quartile or median quartile')"
            ]
        },
        {
            "cell_type": "markdown",
            "id": "46c70c3d",
            "metadata": {},
            "source": [
                "### Exercise 2\n",
                "\n",
                "Write a Python program to calculate the standard deviation of the following data:\n",
                "```py\n",
                "data = [4, 2, 5, 8, 6]\n",
                "```"
            ]
        },
        {
            "cell_type": "code",
            "execution_count": 68,
            "id": "d590308e",
            "metadata": {},
            "outputs": [
                {
                    "name": "stdout",
                    "output_type": "stream",
                    "text": [
                        "Data:  [4, 2, 5, 8, 6]\n",
                        "SD:  2.23606797749979\n",
                        "AVG  5.0\n"
                    ]
                }
            ],
            "source": [
                "import math\n",
                "import sys\n",
                "\n",
                "# Define the standard deviation function\n",
                "\n",
                "def sd_calc(data):\n",
                "    #code here\n",
                "    n = len(data)\n",
                "    if n < 2: return 0.0\n",
                "\n",
                "    mean, sd = avg_calc(data), 0.0\n",
                "\n",
                "    # calculate stan. dev.\n",
                "    for el in data:\n",
                "        sd += (float(el) - mean)**2\n",
                "\n",
                "    sd = math.sqrt(sd / float(n-1))\n",
                "\n",
                "    return sd\n",
                "\n",
                "# Define the average function\n",
                "\n",
                "def avg_calc(ls):\n",
                "    #code here\n",
                "    n, mean = len(ls), 0.0\n",
                "\n",
                "    if n < 2: return ls[0]\n",
                "\n",
                "    # calculate average\n",
                "    for el in ls:\n",
                "        mean = mean + float(el)\n",
                "    mean = mean / float(n)\n",
                "\n",
                "    return mean\n",
                "    \n",
                "data = [4, 2, 5, 8, 6]\n",
                "#print the data\n",
                "print(\"Data: \", data)\n",
                "#print the standard deviation of the data\n",
                "print(\"SD: \", sd_calc(data))\n",
                "print(\"AVG \", avg_calc(data))\n"
            ]
        },
        {
            "cell_type": "markdown",
            "id": "04b71791",
            "metadata": {},
            "source": [
                "Source:\n",
                "\n",
                "https://www.w3resource.com/"
            ]
        }
    ],
    "metadata": {
        "interpreter": {
            "hash": "9248718ffe6ce6938b217e69dbcc175ea21f4c6b28a317e96c05334edae734bb"
        },
        "kernelspec": {
            "display_name": "Python 3.9.12 ('ML-BOOTCAMP')",
            "language": "python",
            "name": "python3"
        },
        "language_info": {
            "codemirror_mode": {
                "name": "ipython",
                "version": 3
            },
            "file_extension": ".py",
            "mimetype": "text/x-python",
            "name": "python",
            "nbconvert_exporter": "python",
            "pygments_lexer": "ipython3",
            "version": "3.9.12"
        }
    },
    "nbformat": 4,
    "nbformat_minor": 5
}
